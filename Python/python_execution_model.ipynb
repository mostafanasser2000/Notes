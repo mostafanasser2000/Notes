{
 "cells": [
  {
   "cell_type": "markdown",
   "metadata": {},
   "source": [
    "## Python Execution Model\n",
    "![](imgs/python_execution_model.png \"Python Execution Model\")\n",
    "\n",
    "- A Python file (`.py`) is compiled to  ByteCode, resulting files with a `.pyc` extension, this byte code is then interpreted by the Python Virtual Machine (PVM) or Python interpreter (interpreter is a kind of a program that execute other program) to execute the program\n",
    "### Byte Code\n",
    "- Byte code is an lower level platform independent representation of Python code.\n",
    "- Python translates each of our source code into a group of byte code instructions\n",
    "- It is not machine code.\n",
    "- It is a compiled version of a Python file.\n",
    "\n",
    "### Python Virtual Machine (PVM)\n",
    "- The PVM is a big loop that iterates through byte code instruction, one by one, to carry out their operations.\n",
    "- It's the runtime engine of python.\n",
    "- It's the last step in \"Python interpreter.\n",
    "### Python Interpreter Implementations Alternative\n",
    "- CPython\n",
    "  - The standard Python implementation.\n",
    "  - Written in portable C language.\n",
    "  - Allow Python to script C,C++ Component.\n",
    "- Jython\n",
    "  - Targeted Java.\n",
    "  - Translates Python source code to Java byte code which is run by Java virtual machine (JVM).\n",
    "  - Allow python to import and use Java classes as if they written in python.\n",
    "- IronPython\n",
    "  - Targets the Microsoft .NET framework and its C# runtime system."
   ]
  },
  {
   "cell_type": "markdown",
   "metadata": {},
   "source": []
  }
 ],
 "metadata": {
  "language_info": {
   "name": "python"
  }
 },
 "nbformat": 4,
 "nbformat_minor": 2
}
