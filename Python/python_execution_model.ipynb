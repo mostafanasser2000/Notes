{
 "cells": [
  {
   "cell_type": "markdown",
   "metadata": {},
   "source": [
    "## Python Execution Model\n",
    "\n",
    "- A Python file (`.py`) is compiled to  ByteCode, resulting files with a `.pyc` extension, this byte code is then interpreted by the Python Virtual Machine (PVM) to execute the program\n",
    "### Byte Code\n",
    "- Byte code is an intermediate representation of Python code.\n",
    "- It is not machine code.\n",
    "- It is a compiled version of a Python file.\n",
    "\n",
    "### Python Virtual Machine (PVM)\n",
    "- The PVM is an interpreter that iterate through byte code instruction and carry out their operations.\n",
    "### Python Implementations Alternative\n",
    "- CPython\n",
    "  - The standard Python implementation.\n",
    "  - Written in portable C language.\n",
    "  - Allow Python to script C,C++ Component.\n",
    "- Jython\n",
    "  - Targeted Java.\n",
    "  - Translates Python source code to Java byte code which is run by Java virtual machine (JVM).\n",
    "  - Allow python to import and use Java classes as if they written in python.\n",
    "- IronPython\n",
    "  - Targets the Microsoft .NET framework and its C# runtime system."
   ]
  }
 ],
 "metadata": {
  "language_info": {
   "name": "python"
  }
 },
 "nbformat": 4,
 "nbformat_minor": 2
}
